{
 "cells": [
  {
   "cell_type": "markdown",
   "id": "mdt21",
   "metadata": {},
   "source": [
    "# Portfolios\n",
    "\n",
    "You can run the cells below directly in LUSID's JupyterHub.\n",
    "\n",
    "The `%%luminesce` is a magic command which passes the cell query string to Lumipy,\n",
    "which then returns a DataFrame.\n",
    "    "
   ]
  },
  {
   "cell_type": "markdown",
   "id": "mds210",
   "metadata": {},
   "source": [
    "#### Create transaction portfolio"
   ]
  },
  {
   "cell_type": "code",
   "execution_count": null,
   "id": "ccs210",
   "metadata": {},
   "outputs": [],
   "source": [
    "%%luminesce\n",
    "\n",
    "-- ============================================================\n",
    "-- Description:\n",
    "-- 1. In this query, we create a Transaction Portfolio in LUSID\n",
    "-- ============================================================\n",
    "\n",
    "-- Defining scope and code variables\n",
    "@@portfolioScope =\n",
    "\n",
    "select 'IBOR';\n",
    "\n",
    "@@portfolioCode1 =\n",
    "\n",
    "select 'uk-equity';\n",
    "\n",
    "-- Define the portfolio data\n",
    "@create_portfolio =\n",
    "\n",
    "select 'Transaction' as PortfolioType, @@portfolioScope as PortfolioScope, @@portfolioCode1 as\n",
    "   PortfolioCode, @@portfolioCode1 as DisplayName, '' as Description, #2000-01-01# as Created, ''\n",
    "   as SubHoldingKeys, 'GBP' as BaseCurrency;\n",
    "\n",
    "-- Upload the portfolio into LUSID\n",
    "@response_create_portfolio =\n",
    "\n",
    "select *\n",
    "from Lusid.Portfolio.Writer\n",
    "where ToWrite = @create_portfolio;\n",
    "\n",
    "select *\n",
    "from @response_create_portfolio;\n"
   ]
  }
 ],
 "metadata": {},
 "nbformat": 4,
 "nbformat_minor": 5
}
