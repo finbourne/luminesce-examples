{
 "cells": [
  {
   "cell_type": "markdown",
   "id": "88a164ae",
   "metadata": {},
   "source": [
    "# Quotes\n",
    "\n",
    "You can run the cells below directly in LUSID's JupyterHub.\n",
    "\n",
    "The `%%luminesce` is a magic command which passes the cell query string to Lumipy,\n",
    "which then returns a DataFrame.\n",
    "    "
   ]
  },
  {
   "cell_type": "markdown",
   "id": "f9563130",
   "metadata": {},
   "source": [
    "#### Upload fx quotes"
   ]
  },
  {
   "cell_type": "code",
   "execution_count": null,
   "id": "03a4df59",
   "metadata": {},
   "outputs": [],
   "source": [
    "%%luminesce\n",
    "\n",
    "-- =====================================================\n",
    "-- Description:\n",
    "-- In this query, we run an ETL process on FX quotes\n",
    "-- =====================================================\n",
    "\n",
    "-- Extract FX data from LUSID Drive\n",
    "\n",
    "@fx_price_data =\n",
    "use Drive.Excel\n",
    "--file=/luminesce-examples/daily_quotes.xlsx\n",
    "--worksheet=fx\n",
    "enduse;\n",
    "\n",
    "-- Run transformation on the data\n",
    "\n",
    "@quotes_for_upload = select\n",
    "'CurrencyPair' as InstrumentIdType,\n",
    "ccy_pair as Instrumentid,\n",
    "'luminesce-examples' as QuoteScope,\n",
    "'Rate' as QuoteType,\n",
    "'Lusid' as Provider,\n",
    "'Mid' as Field,\n",
    "price_date as QuoteEffectiveAt,\n",
    "close_price as Value,\n",
    "currency as Unit\n",
    "from @fx_price_data;\n",
    "\n",
    "-- Upload quotes into LUSID\n",
    "\n",
    "select * from Lusid.Instrument.Quote.Writer\n",
    "where ToWrite = @quotes_for_upload;\n",
    "\n"
   ]
  }
 ],
 "metadata": {},
 "nbformat": 4,
 "nbformat_minor": 5
}
