{
 "cells": [
  {
   "cell_type": "markdown",
   "id": "mdt12",
   "metadata": {},
   "source": [
    "# Properties\n",
    "\n",
    "You can run the cells below directly in LUSID's JupyterHub.\n",
    "\n",
    "The `%%luminesce` is a magic command which passes the cell query string to Lumipy,\n",
    "which then returns a DataFrame.\n",
    "    "
   ]
  },
  {
   "cell_type": "markdown",
   "id": "mds120",
   "metadata": {},
   "source": [
    "#### Create instrument properties"
   ]
  },
  {
   "cell_type": "code",
   "execution_count": null,
   "id": "ccs120",
   "metadata": {},
   "outputs": [],
   "source": [
    "%%luminesce\n",
    "\n",
    "-- ==========================================================\n",
    "-- Description:\n",
    "-- 1. In this query, we create a set of instrument properties\n",
    "-- ==========================================================\n",
    "\n",
    "\n",
    "@@propertyScope = select 'IBOR';\n",
    "\n",
    "@property_definition =\n",
    "\n",
    "select\n",
    "'Sector' as [DisplayName],\n",
    "'Instrument' as [Domain],\n",
    "@@propertyScope as [PropertyScope],\n",
    "'Sector' as [PropertyCode],\n",
    "'Property' as [ConstraintStyle],\n",
    "'system' as [DataTypeScope],\n",
    "'string' as [DataTypeCode];\n",
    "\n",
    "select * from Lusid.Property.Definition.Writer\n",
    "where ToWrite = @property_definition;\n"
   ]
  },
  {
   "cell_type": "markdown",
   "id": "mds121",
   "metadata": {},
   "source": [
    "#### Create properties from csv"
   ]
  },
  {
   "cell_type": "code",
   "execution_count": null,
   "id": "ccs121",
   "metadata": {},
   "outputs": [],
   "source": [
    "%%luminesce\n",
    "\n",
    "-- ==================================================================\n",
    "-- Description:\n",
    "-- 1. In this example, we create some properties in LUSID,\n",
    "-- loaded from a CSV files. To inline properties, so they can be used\n",
    "-- in other Luminesce queries, see this page here:\n",
    "-- https://support.lusid.com/knowledgebase/article/KA-01702/en-us\n",
    "-- ===================================================================\n",
    "\n",
    "-- Load a CSV file of properties from LUSID Drive\n",
    "\n",
    "@properties = use Drive.csv\n",
    "--file=/luminesce-examples/lusid_properties.csv\n",
    "enduse;\n",
    "\n",
    "-- Transform the CSV data into a LUSID format\n",
    "\n",
    "@property_definition = select\n",
    "PropertyName as [DisplayName],\n",
    "Domain as [Domain],\n",
    "Scope as [PropertyScope],\n",
    "PropertyCode as [PropertyCode],\n",
    "'Property' as [ConstraintStyle],\n",
    "'system' as [DataTypeScope],\n",
    "DataType as [DataTypeCode]\n",
    "from @properties;\n",
    "\n",
    "-- Upload the properties into LUSID\n",
    "\n",
    "select * from Lusid.Property.Definition.Writer\n",
    "where ToWrite = @property_definition;\n"
   ]
  }
 ],
 "metadata": {},
 "nbformat": 4,
 "nbformat_minor": 5
}
