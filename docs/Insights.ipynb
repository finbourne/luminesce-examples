{
 "cells": [
  {
   "cell_type": "markdown",
   "id": "mdt16",
   "metadata": {},
   "source": [
    "# Insights\n",
    "\n",
    "You can run the cells below directly in LUSID's JupyterHub.\n",
    "\n",
    "The `%%luminesce` is a magic command which passes the cell query string to Lumipy,\n",
    "which then returns a DataFrame.\n",
    "    "
   ]
  },
  {
   "cell_type": "markdown",
   "id": "mds160",
   "metadata": {},
   "source": [
    "#### Count of requests per lusid method"
   ]
  },
  {
   "cell_type": "code",
   "execution_count": null,
   "id": "ccs160",
   "metadata": {},
   "outputs": [],
   "source": [
    "%%luminesce\n",
    "\n",
    "-- ===============================================================\n",
    "-- Description:\n",
    "-- 1. This query shows you can query application logs in Insights.\n",
    "-- 2. In the example, we count the number of successful\n",
    "-- requests since yesterday.\n",
    "-- ===============================================================\n",
    "\n",
    "-- Set this query to timeout after 3 minutes, via a PRAGMA.\n",
    "\n",
    "pragma TimeoutSec = 180;\n",
    "\n",
    "-- Define a variable for yesterday\n",
    "\n",
    "@@yesterday =\n",
    "\n",
    "select date ('now', '-1 day');\n",
    "\n",
    "-- Count the number of requests per method since midnight yesterday\n",
    "\n",
    "@aggregate = select Method, count(*) as [CountOfRequests]\n",
    "from Lusid.Logs.AppRequest.Athena\n",
    "where\n",
    " Application = 'lusid'\n",
    " and StatusCode = 200\n",
    " and StartAt = @@yesterday\n",
    "group by 1;\n",
    "\n",
    "-- avoids attempting to pass the order by\n",
    "select * from @aggregate order by CountOfRequests desc;\n"
   ]
  }
 ],
 "metadata": {},
 "nbformat": 4,
 "nbformat_minor": 5
}
