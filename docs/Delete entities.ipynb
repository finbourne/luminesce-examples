{
 "cells": [
  {
   "cell_type": "markdown",
   "id": "1353f96a",
   "metadata": {},
   "source": [
    "# Delete entities\n",
    "\n",
    "You can run the cells below directly in LUSID's JupyterHub.\n",
    "\n",
    "The `%%luminesce` is a magic command which passes the cell query string to Lumipy,\n",
    "which then returns a DataFrame.\n",
    "    "
   ]
  },
  {
   "cell_type": "markdown",
   "id": "06474720",
   "metadata": {},
   "source": [
    "#### Step 1: Delete quotes"
   ]
  },
  {
   "cell_type": "code",
   "execution_count": null,
   "id": "2f2b4300",
   "metadata": {},
   "outputs": [],
   "source": [
    "%%luminesce\n",
    "\n",
    "/*\n",
    "\n",
    "--------------------------\n",
    "Delete all quotes in scope\n",
    "--------------------------\n",
    "\n",
    "WARNING: This script will bulk delete data from LUSID.\n",
    "\n",
    "https://support.lusid.com/knowledgebase/category/?id=CAT-01099\n",
    "\n",
    "*/\n",
    "\n",
    "@@scope =\n",
    "select 'luminesce-examples';\n",
    "\n",
    "@allDataInScope =\n",
    "select *, 'Delete' as WriteAction\n",
    "from Lusid.Instrument.Quote\n",
    "where QuoteScope = @@scope\n",
    "limit 100;\n",
    "\n",
    "select *\n",
    "from Lusid.Instrument.Quote.Writer\n",
    "where ToWrite = @allDataInScope;\n",
    "\n"
   ]
  },
  {
   "cell_type": "markdown",
   "id": "8e13bd4f",
   "metadata": {},
   "source": [
    "#### Step 2: Delete instruments"
   ]
  },
  {
   "cell_type": "code",
   "execution_count": null,
   "id": "11626b5d",
   "metadata": {},
   "outputs": [],
   "source": [
    "%%luminesce\n",
    "\n",
    "/*\n",
    "\n",
    "-------------------------------\n",
    "Delete all Instruments in scope\n",
    "-------------------------------\n",
    "\n",
    "WARNING: This script will bulk delete data from LUSID.\n",
    "\n",
    "https://support.lusid.com/knowledgebase/category/?id=CAT-01099\n",
    "\n",
    "*/\n",
    "\n",
    "@@scope =\n",
    "select 'luminesce-examples';\n",
    "\n",
    "@allDataInScope =\n",
    "select *, 'SoftDelete' as WriteAction\n",
    "from Lusid.Instrument\n",
    "where Scope = @@scope\n",
    "limit 500;\n",
    "\n",
    "select *\n",
    "from Lusid.Instrument.Writer\n",
    "where ToWrite = @allDataInScope;\n",
    "\n"
   ]
  },
  {
   "cell_type": "markdown",
   "id": "6df58f9d",
   "metadata": {},
   "source": [
    "#### Step 3: Delete portfolios"
   ]
  },
  {
   "cell_type": "code",
   "execution_count": null,
   "id": "84309de1",
   "metadata": {},
   "outputs": [],
   "source": [
    "%%luminesce\n",
    "\n",
    "/*\n",
    "\n",
    "------------------------------\n",
    "Delete all portfolios in scope\n",
    "------------------------------\n",
    "\n",
    "WARNING: This script will bulk delete data from LUSID.\n",
    "\n",
    "https://support.lusid.com/knowledgebase/category/?id=CAT-01099\n",
    "\n",
    "*/\n",
    "\n",
    "@@scope =\n",
    "select 'luminesce-examples';\n",
    "\n",
    "@allDataInScope =\n",
    "select *, 'Delete' as WriteAction\n",
    "from Lusid.Portfolio\n",
    "where PortfolioScope = @@scope;\n",
    "\n",
    "select *\n",
    "from Lusid.Portfolio.Writer\n",
    "where ToWrite = @allDataInScope;\n"
   ]
  },
  {
   "cell_type": "markdown",
   "id": "dc5ac264",
   "metadata": {},
   "source": [
    "#### Step 4: Delete properties"
   ]
  },
  {
   "cell_type": "code",
   "execution_count": null,
   "id": "5c074ab8",
   "metadata": {},
   "outputs": [],
   "source": [
    "%%luminesce\n",
    "\n",
    "/*\n",
    "\n",
    "------------------------------\n",
    "Delete all properties in scope\n",
    "------------------------------\n",
    "\n",
    "WARNING: This script will bulk delete data from LUSID.\n",
    "\n",
    "https://support.lusid.com/knowledgebase/category/?id=CAT-01099\n",
    "\n",
    "*/\n",
    "\n",
    "@@scope =\n",
    "select 'luminesce-examples';\n",
    "\n",
    "@allDataInScope =\n",
    "select *, 'Delete' as WriteAction\n",
    "from Lusid.Property.Definition\n",
    "where PropertyScope = @@scope;\n",
    "\n",
    "select *\n",
    "from Lusid.Property.Definition.Writer\n",
    "where ToWrite = @allDataInScope;\n"
   ]
  },
  {
   "cell_type": "markdown",
   "id": "d70bcbd4",
   "metadata": {},
   "source": [
    "#### Step 5: Delete coa"
   ]
  },
  {
   "cell_type": "code",
   "execution_count": null,
   "id": "606fc83f",
   "metadata": {},
   "outputs": [],
   "source": [
    "%%luminesce\n",
    "\n",
    "/*\n",
    "\n",
    "-----------------------\n",
    "Delete all COA in scope\n",
    "-----------------------\n",
    "\n",
    "WARNING: This script will bulk delete data from LUSID.\n",
    "\n",
    "https://support.lusid.com/knowledgebase/category/?id=CAT-01099\n",
    "\n",
    "*/\n",
    "\n",
    "@@scope =\n",
    "select 'luminesce-examples';\n",
    "\n",
    "@allDataInScope =\n",
    "select *, 'Delete' as WriteAction\n",
    "from Lusid.ChartOfAccounts\n",
    "where ChartOfAccountsScope = @@scope;\n",
    "\n",
    "select *\n",
    "from Lusid.ChartOfAccounts.Writer\n",
    "where ToWrite = @allDataInScope;\n",
    "\n"
   ]
  },
  {
   "cell_type": "markdown",
   "id": "25cd7662",
   "metadata": {},
   "source": [
    "#### Step 6: Delete gl profiles"
   ]
  },
  {
   "cell_type": "code",
   "execution_count": null,
   "id": "6442e1a2",
   "metadata": {},
   "outputs": [],
   "source": [
    "%%luminesce\n",
    "\n",
    "/*\n",
    "\n",
    "-------------------------------\n",
    "Delete all GL Profiles in scope\n",
    "-------------------------------\n",
    "\n",
    "WARNING: This script will bulk delete data from LUSID.\n",
    "\n",
    "https://support.lusid.com/knowledgebase/category/?id=CAT-01099\n",
    "\n",
    "*/\n",
    "\n",
    "@@scope =\n",
    "select 'luminesce-examples';\n",
    "\n",
    "@allDataInScope =\n",
    "select *, 'Delete' as WriteAction\n",
    "from Lusid.GeneralLedgerProfile\n",
    "where ChartOfAccountsScope = @@scope;\n",
    "\n",
    "select *\n",
    "from Lusid.GeneralLedgerProfile.Writer\n",
    "where ToWrite = @allDataInScope;\n"
   ]
  }
 ],
 "metadata": {},
 "nbformat": 4,
 "nbformat_minor": 5
}
