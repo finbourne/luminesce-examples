{
 "cells": [
  {
   "cell_type": "markdown",
   "id": "mdt8",
   "metadata": {},
   "source": [
    "# Delete entities\n",
    "\n",
    "You can run the cells below directly in LUSID's JupyterHub.\n",
    "\n",
    "The `%%luminesce` is a magic command which passes the cell query string to Lumipy,\n",
    "which then returns a DataFrame.\n",
    "    "
   ]
  },
  {
   "cell_type": "markdown",
   "id": "mds80",
   "metadata": {},
   "source": [
    "#### Step 1: Delete quotes"
   ]
  },
  {
   "cell_type": "code",
   "execution_count": null,
   "id": "ccs80",
   "metadata": {},
   "outputs": [],
   "source": [
    "%%luminesce\n",
    "\n",
    "/*\n",
    "\n",
    "--------------------------\n",
    "Delete all quotes in scope\n",
    "--------------------------\n",
    "\n",
    "WARNING: This script will bulk delete data from LUSID.\n",
    "\n",
    "https://support.lusid.com/knowledgebase/category/?id=CAT-01099\n",
    "\n",
    "*/\n",
    "\n",
    "@@scope =\n",
    "select 'luminesce-examples';\n",
    "\n",
    "@allDataInScope =\n",
    "select *, 'Delete' as WriteAction\n",
    "from Lusid.Instrument.Quote\n",
    "where QuoteScope = @@scope\n",
    "limit 100;\n",
    "\n",
    "select *\n",
    "from Lusid.Instrument.Quote.Writer\n",
    "where ToWrite = @allDataInScope;\n",
    "\n"
   ]
  },
  {
   "cell_type": "markdown",
   "id": "mds81",
   "metadata": {},
   "source": [
    "#### Step 2: Delete instruments"
   ]
  },
  {
   "cell_type": "code",
   "execution_count": null,
   "id": "ccs81",
   "metadata": {},
   "outputs": [],
   "source": [
    "%%luminesce\n",
    "\n",
    "/*\n",
    "\n",
    "-------------------------------\n",
    "Delete all Instruments in scope\n",
    "-------------------------------\n",
    "\n",
    "WARNING: This script will bulk delete data from LUSID.\n",
    "\n",
    "https://support.lusid.com/knowledgebase/category/?id=CAT-01099\n",
    "\n",
    "*/\n",
    "\n",
    "@@scope =\n",
    "select 'luminesce-examples';\n",
    "\n",
    "@allDataInScope =\n",
    "select *, 'SoftDelete' as WriteAction\n",
    "from Lusid.Instrument\n",
    "where Scope = @@scope\n",
    "limit 500;\n",
    "\n",
    "select *\n",
    "from Lusid.Instrument.Writer\n",
    "where ToWrite = @allDataInScope;\n",
    "\n"
   ]
  },
  {
   "cell_type": "markdown",
   "id": "mds82",
   "metadata": {},
   "source": [
    "#### Step 3: Delete portfolios"
   ]
  },
  {
   "cell_type": "code",
   "execution_count": null,
   "id": "ccs82",
   "metadata": {},
   "outputs": [],
   "source": [
    "%%luminesce\n",
    "\n",
    "/*\n",
    "\n",
    "------------------------------\n",
    "Delete all portfolios in scope\n",
    "------------------------------\n",
    "\n",
    "WARNING: This script will bulk delete data from LUSID.\n",
    "\n",
    "https://support.lusid.com/knowledgebase/category/?id=CAT-01099\n",
    "\n",
    "*/\n",
    "\n",
    "@@scope =\n",
    "select 'luminesce-examples';\n",
    "\n",
    "@allDataInScope =\n",
    "select *, 'Delete' as WriteAction\n",
    "from Lusid.Portfolio\n",
    "where PortfolioScope = @@scope;\n",
    "\n",
    "select *\n",
    "from Lusid.Portfolio.Writer\n",
    "where ToWrite = @allDataInScope;\n"
   ]
  },
  {
   "cell_type": "markdown",
   "id": "mds83",
   "metadata": {},
   "source": [
    "#### Step 4: Delete properties"
   ]
  },
  {
   "cell_type": "code",
   "execution_count": null,
   "id": "ccs83",
   "metadata": {},
   "outputs": [],
   "source": [
    "%%luminesce\n",
    "\n",
    "/*\n",
    "\n",
    "------------------------------\n",
    "Delete all properties in scope\n",
    "------------------------------\n",
    "\n",
    "WARNING: This script will bulk delete data from LUSID.\n",
    "\n",
    "https://support.lusid.com/knowledgebase/category/?id=CAT-01099\n",
    "\n",
    "*/\n",
    "\n",
    "@@scope =\n",
    "select 'luminesce-examples';\n",
    "\n",
    "@allDataInScope =\n",
    "select *, 'Delete' as WriteAction\n",
    "from Lusid.Property.Definition\n",
    "where PropertyScope = @@scope;\n",
    "\n",
    "select *\n",
    "from Lusid.Property.Definition.Writer\n",
    "where ToWrite = @allDataInScope;\n"
   ]
  },
  {
   "cell_type": "markdown",
   "id": "mds84",
   "metadata": {},
   "source": [
    "#### Step 5: Delete coa"
   ]
  },
  {
   "cell_type": "code",
   "execution_count": null,
   "id": "ccs84",
   "metadata": {},
   "outputs": [],
   "source": [
    "%%luminesce\n",
    "\n",
    "/*\n",
    "\n",
    "-----------------------\n",
    "Delete all COA in scope\n",
    "-----------------------\n",
    "\n",
    "WARNING: This script will bulk delete data from LUSID.\n",
    "\n",
    "https://support.lusid.com/knowledgebase/category/?id=CAT-01099\n",
    "\n",
    "*/\n",
    "\n",
    "@@scope =\n",
    "select 'luminesce-examples';\n",
    "\n",
    "@allDataInScope =\n",
    "select *, 'Delete' as WriteAction\n",
    "from Lusid.ChartOfAccounts\n",
    "where ChartOfAccountsScope = @@scope;\n",
    "\n",
    "select *\n",
    "from Lusid.ChartOfAccounts.Writer\n",
    "where ToWrite = @allDataInScope;\n",
    "\n"
   ]
  },
  {
   "cell_type": "markdown",
   "id": "mds85",
   "metadata": {},
   "source": [
    "#### Step 6: Delete gl profiles"
   ]
  },
  {
   "cell_type": "code",
   "execution_count": null,
   "id": "ccs85",
   "metadata": {},
   "outputs": [],
   "source": [
    "%%luminesce\n",
    "\n",
    "/*\n",
    "\n",
    "-------------------------------\n",
    "Delete all GL Profiles in scope\n",
    "-------------------------------\n",
    "\n",
    "WARNING: This script will bulk delete data from LUSID.\n",
    "\n",
    "https://support.lusid.com/knowledgebase/category/?id=CAT-01099\n",
    "\n",
    "*/\n",
    "\n",
    "@@scope =\n",
    "select 'luminesce-examples';\n",
    "\n",
    "@allDataInScope =\n",
    "select *, 'Delete' as WriteAction\n",
    "from Lusid.GeneralLedgerProfile\n",
    "where ChartOfAccountsScope = @@scope;\n",
    "\n",
    "select *\n",
    "from Lusid.GeneralLedgerProfile.Writer\n",
    "where ToWrite = @allDataInScope;\n"
   ]
  }
 ],
 "metadata": {},
 "nbformat": 4,
 "nbformat_minor": 5
}
